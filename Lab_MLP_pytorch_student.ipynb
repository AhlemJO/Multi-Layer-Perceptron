{
  "nbformat": 4,
  "nbformat_minor": 0,
  "metadata": {
    "colab": {
      "name": "Lab_MLP_pytorch_student.ipynb",
      "provenance": [],
      "collapsed_sections": []
    },
    "kernelspec": {
      "display_name": "Python 3",
      "language": "python",
      "name": "python3"
    },
    "language_info": {
      "codemirror_mode": {
        "name": "ipython",
        "version": 3
      },
      "file_extension": ".py",
      "mimetype": "text/x-python",
      "name": "python",
      "nbconvert_exporter": "python",
      "pygments_lexer": "ipython3",
      "version": "3.6.5"
    },
    "toc": {
      "base_numbering": 1,
      "nav_menu": {},
      "number_sections": true,
      "sideBar": true,
      "skip_h1_title": false,
      "title_cell": "Table of Contents",
      "title_sidebar": "Contents",
      "toc_cell": false,
      "toc_position": {},
      "toc_section_display": true,
      "toc_window_display": true
    }
  },
  "cells": [
    {
      "cell_type": "markdown",
      "metadata": {
        "colab_type": "text",
        "id": "k4fnzJJDo60Y"
      },
      "source": [
        "# Lab Deep Learning / Multi-Layer Perceptron for binary-classification / in pytorch\n",
        "\n",
        "**Author: geoffroy.peeters@telecom-paris.fr**\n",
        "\n",
        "For any remark or suggestion, please feel free to contact me.\n",
        "\n",
        "\n",
        "\n",
        "## Objective:\n",
        "\n",
        "The objective of this lab is to develop a two hidden layers MLP to perform **binary classification**.\n",
        "\n",
        "We will use a MLP with 2 hidden layer with $n_{h1}=20$ and $n_{h2}=10$ hidden units and ```relu``` activation functions.\n",
        "You will perform 1000 iterations (epochs) of SGD to find the parameters.\n",
        "\n",
        "Note: for this lab, we do not separate the dataset into a train, validation and test part.\n",
        "\n",
        "### Data normalization\n",
        "\n",
        "You should normalize the data to zero mean and unit standard deviation\n",
        "\n",
        "### Model\n",
        "\n",
        "There are various ways to write NN model in pytorch. \n",
        "\n",
        "In this lab, you will write three different implementations:\n",
        "- **Model A**: manually defining the parameters (W1,b1,W2,b2,W3,b3), writing the forward equations, writting the loss equation, calling the .backward() and manually updating the weights using W1.grad. You will write the loop to perform 1000 epochs.\n",
        "- **Model B**: using the Sequential class of pytorch\n",
        "- **Model C**: a custom torch.nn.Module class for this.\n",
        "\n",
        "For Model B and C, you will use the ready made loss and optimization from the nn and optim packages. You can use the same code to optimize the parameters of Model B and C.\n",
        "\n",
        "### Loss\n",
        "\n",
        "Since we are dealing with a binary classification problem, we will use a Binary Cross Entropy loss (use ```torch.nn.BCELoss``` for Model B and C).\n",
        "\n",
        "### Parameters update/ Optimization\n",
        "\n",
        "For updating the parameters, we will use as optimizer a simple SGD algorithm (use ```torch.optim.SGD``` for Model B and C) with a learning rate of 0.1.\n",
        "\n",
        "Don't forget that an optimizer is applied to a set of parameters (```my_model.parameters()``` gives the parameters of the network for Model B and C).\n",
        "Once the gradients have been computed (after the backpropagation has been performed), you can perform one step of optimization (using ```optimizer.step()``` for Model B and C).\n",
        "\n",
        "### Backward propagation\n",
        "\n",
        "Backpropagation is automatically performed in pytorch using the ```autograd``` package. \n",
        "First, reset the gradients of all parameters (using ```optimizer.zero_grad()``` for Model B and C), then perform the backpropagation ```loss.backward()```. \n",
        "\n",
        "## Your task:\n",
        "\n",
        "You need to add the missing parts in the code (parts between ```# --- START CODE HERE``` and ```# --- END CODE HERE```)\n",
        "\n",
        "## Documentation:\n",
        "- NN: https://pytorch.org/docs/stable/nn.html\n",
        "- Autograd: https://pytorch.org/docs/stable/autograd.html\n",
        "- Optim: https://pytorch.org/docs/stable/optim.html\n"
      ]
    },
    {
      "cell_type": "markdown",
      "metadata": {
        "colab_type": "text",
        "id": "tuvU8y2Lo60Z"
      },
      "source": [
        "## Load the python packages"
      ]
    },
    {
      "cell_type": "code",
      "metadata": {
        "colab_type": "code",
        "id": "I1VTuwVio60a",
        "colab": {}
      },
      "source": [
        "import torch\n",
        "import torch.nn as nn\n",
        "import torch.nn.functional as F\n",
        "import torch.optim as optim\n",
        "from torch.autograd import Variable\n",
        "\n",
        "import numpy as np\n",
        "import matplotlib.pyplot as plt\n",
        "\n",
        "student = True"
      ],
      "execution_count": 0,
      "outputs": []
    },
    {
      "cell_type": "code",
      "metadata": {
        "colab_type": "code",
        "id": "Zof__thjo60d",
        "outputId": "db4cfd06-100c-4a40-864c-7fe0ed53fb6b",
        "colab": {
          "base_uri": "https://localhost:8080/",
          "height": 34
        }
      },
      "source": [
        "print(torch.__version__)"
      ],
      "execution_count": 3,
      "outputs": [
        {
          "output_type": "stream",
          "text": [
            "1.2.0\n"
          ],
          "name": "stdout"
        }
      ]
    },
    {
      "cell_type": "markdown",
      "metadata": {
        "colab_type": "text",
        "id": "Bsb-phrJo60g"
      },
      "source": [
        "## Dataset\n",
        "\n",
        "We take the usual circle dataset from sklearn."
      ]
    },
    {
      "cell_type": "code",
      "metadata": {
        "colab_type": "code",
        "id": "Otam7ukPo60g",
        "colab": {}
      },
      "source": [
        "from sklearn import datasets\n",
        "X_np, y_np = datasets.make_circles(n_samples=1000, noise=0.2, factor=0.5)"
      ],
      "execution_count": 0,
      "outputs": []
    },
    {
      "cell_type": "markdown",
      "metadata": {
        "colab_type": "text",
        "id": "-5idAV4Co60i"
      },
      "source": [
        "We convert the ```numpy tensors``` to ```torch tensors```. \n",
        "The difference being that the latters allows to do automatic gradient differentiation (back-propagation)."
      ]
    },
    {
      "cell_type": "code",
      "metadata": {
        "colab_type": "code",
        "id": "rPxnzVSDo60j",
        "colab": {}
      },
      "source": [
        "X = torch.from_numpy(X_np).float()\n",
        "y = torch.from_numpy(y_np).float()\n",
        "y = y.view(len(y), 1)"
      ],
      "execution_count": 0,
      "outputs": []
    },
    {
      "cell_type": "code",
      "metadata": {
        "colab_type": "code",
        "id": "YHgd8JYPo60l",
        "outputId": "185a1453-01d7-4317-dee7-67c0e0eb80be",
        "colab": {
          "base_uri": "https://localhost:8080/",
          "height": 85
        }
      },
      "source": [
        "print(X.size())\n",
        "print(y.size())\n",
        "print(X.mean(dim=0))\n",
        "print(X.std(dim=0))"
      ],
      "execution_count": 6,
      "outputs": [
        {
          "output_type": "stream",
          "text": [
            "torch.Size([1000, 2])\n",
            "torch.Size([1000, 1])\n",
            "tensor([-0.0032,  0.0071])\n",
            "tensor([0.5986, 0.5984])\n"
          ],
          "name": "stdout"
        }
      ]
    },
    {
      "cell_type": "markdown",
      "metadata": {
        "colab_type": "text",
        "id": "Unp-3kjjo60n"
      },
      "source": [
        "## Normalization"
      ]
    },
    {
      "cell_type": "code",
      "metadata": {
        "colab_type": "code",
        "id": "6rIwFaauo60n",
        "outputId": "f0248745-bf5f-4fb4-ba05-5f3d2ba24bfe",
        "colab": {
          "base_uri": "https://localhost:8080/",
          "height": 51
        }
      },
      "source": [
        "X -= X.mean(dim=0)\n",
        "X /= X.std(dim=0)\n",
        "print(X.mean(dim=0))\n",
        "print(X.std(dim=0))"
      ],
      "execution_count": 7,
      "outputs": [
        {
          "output_type": "stream",
          "text": [
            "tensor([-5.7220e-09, -1.0788e-08])\n",
            "tensor([1.0000, 1.0000])\n"
          ],
          "name": "stdout"
        }
      ]
    },
    {
      "cell_type": "markdown",
      "metadata": {
        "colab_type": "text",
        "id": "Rc3VgVWOo60p"
      },
      "source": [
        "## Definition of the hyper-parameters"
      ]
    },
    {
      "cell_type": "code",
      "metadata": {
        "colab_type": "code",
        "id": "OrBQMqCJo60r",
        "colab": {}
      },
      "source": [
        "n_in = X.shape[1]\n",
        "n_h1 = 20\n",
        "n_h2 = 10\n",
        "n_out = 1\n",
        "\n",
        "nb_epoch = 10000\n",
        "alpha = 0.1"
      ],
      "execution_count": 0,
      "outputs": []
    },
    {
      "cell_type": "markdown",
      "metadata": {
        "colab_type": "text",
        "id": "CIzjntgZo60t"
      },
      "source": [
        "## Model 1 (writing the network equations)\n",
        "\n",
        "\n",
        "Here, you will define the variables and write the equations of the network yourself (as you would do in numpy).\n",
        "However you will use ```torch tensors``` instead of ```numpy array```. \n",
        "\n",
        "***Why ?*** because torch tensors will allows you to automatically get the gradient. You will use ```loss.backward``` to launch the backpropagation from ```loss```. Then, for all tensors you created and for which you declared ```requires_grad=True```, you will get the gradient of ```loss```with respect to this variable in the field ```.grad```. \n",
        "\n",
        "***Example*** ```W1 = torch.tensors(..., requires_grad=True)``` ... ```loss.backward``` will have the gradient $\\frac{d Loss}{d W1}$in ```W1.grad```.\n",
        "\n",
        "Don't forget that the weight $W_1, W_2, \\cdots$ matrices should be initialized randomly with small values; while the bias vectors $b_1, b_2, \\cdots$can be initialized to zero."
      ]
    },
    {
      "cell_type": "code",
      "metadata": {
        "colab_type": "code",
        "id": "HB65rqW4o60u",
        "outputId": "04b730bc-9513-4837-c806-1712f3d931a7",
        "colab": {
          "base_uri": "https://localhost:8080/",
          "height": 357
        }
      },
      "source": [
        "student=True\n",
        "# --- We first initialize the variables of the network (W1, b1, ...)\n",
        "if student:\n",
        "    # --- START CODE HERE (01)\n",
        "    W1 = torch.randn(n_in,n_h1)*0.01\n",
        "    W1.requires_grad = True\n",
        "    b1 = torch.zeros(n_h1)\n",
        "    b1.requires_grad = True\n",
        "    \n",
        "    W2 = torch.randn(n_h1,n_h2)*0.01\n",
        "    W2.requires_grad = True\n",
        "    b2 = torch.zeros(n_h2)\n",
        "    b2.requires_grad = True\n",
        "\n",
        "    W3 =torch.randn(n_h2,n_out)*0.01\n",
        "    W3.requires_grad = True\n",
        "    b3 = torch.zeros(n_out)\n",
        "    b3.requires_grad = True\n",
        "    # --- END CODE HERE\n",
        "\n",
        "# --- We then write a function to perform the forward pass (using pytorch opertaors, not numpy operators)\n",
        "# --- taking X as input and returing hat_y as output\n",
        "\n",
        "Loss=[]   \n",
        "def model(X):\n",
        "    ##if student:\n",
        "        # --- START CODE HERE (02)\n",
        "    A0 = X\n",
        "    Z1 = torch.mm(A0,W1)+b1\n",
        "    A1 = F.relu(Z1)\n",
        "    Z2 = torch.mm(A1,W2)+b2\n",
        "    A2 = F.relu(Z2)\n",
        "    Z3 = torch.mm(A2,W3)+b3\n",
        "    A3 = torch.sigmoid(Z3)\n",
        "    hat_y = A3\n",
        "        # --- END CODE HERE\n",
        "       \n",
        "    return hat_y\n",
        "\n",
        "# --- We then iterate over epochs (we do not perform split into mini-batch here)\n",
        "# --- For each iteration, we\n",
        "# ---   a) perform the forward pass, \n",
        "# ---   b) compute the loss/cost, \n",
        "# ---   c) compute the backward pass to get the gradients of the cost w.r.t. the parameters W1, b1, ...\n",
        "# ---   d) perform the update of the parameters W1, b1, ...\n",
        "for num_epoch in range(0, nb_epoch):    \n",
        "\n",
        "    # --- a) Forward pass: X (n_in, N), hat_y (n_out, N)\n",
        "    hat_y = model(X)\n",
        "\n",
        "    # -- We clip hat_y in order to avoid log(0)\n",
        "    eps = 1e-10\n",
        "    hat_y = torch.clamp(hat_y, eps, 1-eps)\n",
        "    \n",
        "    # --- b) Computing the loss/cost\n",
        "    if student:\n",
        "        # --- START CODE HERE (03)\n",
        "        m = y.shape[0]\n",
        "        loss = -(torch.mul(y,torch.log(hat_y))+torch.mul((1-y),torch.log(1-hat_y)))\n",
        "        cost = torch.sum(loss) / m\n",
        "        # --- END CODE HERE\n",
        "    Loss.append(loss)\n",
        "    if num_epoch % 500 == 0:\n",
        "        print('epoch {}, loss {}'.format(num_epoch, cost))\n",
        "\n",
        "    # --- c) Backward pass\n",
        "    cost.backward()\n",
        "    \n",
        "    # --- \"with torch.no_grad()\" temporarily set all the requires_grad flag to false\n",
        "    with torch.no_grad():\n",
        "        # --- d) perform the update of the parameters W1, b1, ...\n",
        "        if student:\n",
        "            # --- the gradients dLoss/dW1 is stored in W1.grad, dLoss/db1 is stored in b1.grad, ...\n",
        "            # --- START CODE HERE (04)\n",
        "            W1 -= alpha* W1.grad\n",
        "            b1 -= torch.mul(alpha, b1.grad)\n",
        "            W2 -= torch.mul(alpha, W2.grad)\n",
        "            b2 -= torch.mul(alpha,b2.grad)\n",
        "            W3 -= torch.mul(alpha, W3.grad)\n",
        "            b3 -= torch.mul(alpha, b3.grad)\n",
        "            # --- END CODE HERE\n",
        "\n",
        "    # --- We need to set to zero all gradients (otherwise they are cumulated)\n",
        "    W1.grad.zero_()\n",
        "    b1.grad.zero_()\n",
        "    W2.grad.zero_()\n",
        "    b2.grad.zero_()\n",
        "    W3.grad.zero_()\n",
        "    b3.grad.zero_()"
      ],
      "execution_count": 9,
      "outputs": [
        {
          "output_type": "stream",
          "text": [
            "epoch 0, loss 0.6931467056274414\n",
            "epoch 500, loss 0.6931460499763489\n",
            "epoch 1000, loss 0.6931454539299011\n",
            "epoch 1500, loss 0.6931443214416504\n",
            "epoch 2000, loss 0.6931427717208862\n",
            "epoch 2500, loss 0.6931392550468445\n",
            "epoch 3000, loss 0.6931328773498535\n",
            "epoch 3500, loss 0.6931195855140686\n",
            "epoch 4000, loss 0.6930853128433228\n",
            "epoch 4500, loss 0.692962110042572\n",
            "epoch 5000, loss 0.6920997500419617\n",
            "epoch 5500, loss 0.6342349052429199\n",
            "epoch 6000, loss 0.2687940299510956\n",
            "epoch 6500, loss 0.259768545627594\n",
            "epoch 7000, loss 0.25836747884750366\n",
            "epoch 7500, loss 0.25762829184532166\n",
            "epoch 8000, loss 0.2572731375694275\n",
            "epoch 8500, loss 0.2570596933364868\n",
            "epoch 9000, loss 0.2568739652633667\n",
            "epoch 9500, loss 0.2567640542984009\n"
          ],
          "name": "stdout"
        }
      ]
    },
    {
      "cell_type": "markdown",
      "metadata": {
        "colab_type": "text",
        "id": "lxgA4DXVo60w"
      },
      "source": [
        "## Model 2 (using nn.sequential)\n",
        "\n",
        "Here, you will use the package ```torch.nn``` which comes with a predefined set of layers. The syntax is close to the one of ```keras```(```Sequential```), but differs in the fact that layers are splitted into the matrix multiplication followed by a non-linear activations (```keras```merge both using the ```Dense```layers).\n",
        "\n",
        "The model created will have all its parameters accessible as a dictionary and can be accessed using ```model.parameters()```. It is therefore a convenient way to write simple sequential networks."
      ]
    },
    {
      "cell_type": "code",
      "metadata": {
        "colab_type": "code",
        "id": "elGQpQzjo60x",
        "outputId": "d3d85936-5260-45f8-a4a0-c5e4607a46f1",
        "colab": {
          "base_uri": "https://localhost:8080/",
          "height": 153
        }
      },
      "source": [
        "if student:\n",
        "    # --- START CODE HERE (05)\n",
        "    my_model_2 =torch.nn.Sequential(\n",
        "    nn.Linear(n_in,n_h1),\n",
        "    nn.ReLU(),\n",
        "    nn.Linear(n_h1, n_h2),\n",
        "    nn.ReLU(),\n",
        "    nn.Linear(n_h2, n_out),\n",
        "    nn.Sigmoid()\n",
        "     )\n",
        "    print(my_model_2)\n",
        "    # --- END CODE HERE"
      ],
      "execution_count": 27,
      "outputs": [
        {
          "output_type": "stream",
          "text": [
            "Sequential(\n",
            "  (0): Linear(in_features=2, out_features=20, bias=True)\n",
            "  (1): ReLU()\n",
            "  (2): Linear(in_features=20, out_features=10, bias=True)\n",
            "  (3): ReLU()\n",
            "  (4): Linear(in_features=10, out_features=1, bias=True)\n",
            "  (5): Sigmoid()\n",
            ")\n"
          ],
          "name": "stdout"
        }
      ]
    },
    {
      "cell_type": "markdown",
      "metadata": {
        "colab_type": "text",
        "id": "4twpnbEAo60z"
      },
      "source": [
        "## Model 3 (using a class definition)\n",
        "\n",
        "Here, you will write the network using the recommended pytroch way; i.e. by defining a class.\n",
        "This class inherit from the main class ```torch.nn.Module```.\n",
        "You only need to write the ```__init__``` method and the ```forward``` method.\n",
        "\n",
        "In object programming, the ```__init__``` method defines the attributes of your class. Since the attributes of your  network are the parameters to be trained (weights and biases), you should declare in the ```__init``` all the layers that involve parameters to be trained (mostly the ```Linear```layers which perform the matrix multiplication).\n",
        "\n",
        "The ```forward``` method contains the code of the forward pass itself. It can of course call attributes defined in the ```__init___``` method. It is the method used when calling ```model(x)```.\n",
        "\n",
        "As before, the model created will have all its parameters accessible as a dictionary and can be accessed using ```model.parameters()```. \n",
        "\n",
        "Classes are convenient way to write more complex network than what you can do with ```nn.sequential```. Note that you can actually include a ```nn.sequential``` in your class."
      ]
    },
    {
      "cell_type": "code",
      "metadata": {
        "colab_type": "code",
        "id": "ZNsNkq9Do60z",
        "colab": {
          "base_uri": "https://localhost:8080/",
          "height": 102
        },
        "outputId": "362dd883-784d-4f78-f6a4-a5a0427b5402"
      },
      "source": [
        "import torch.nn as nn\n",
        "import torch.nn.functional as F\n",
        "\n",
        "class Net(torch.nn.Module):\n",
        "    def __init__(self, n_in, n_h1, n_h2, n_out):\n",
        "        super(Net, self).__init__()\n",
        "        \n",
        "        if student:\n",
        "            # --- START CODE HERE (06)\n",
        "            self.fc1 = nn.Linear(n_in,n_h1) # hidden layer 1\n",
        "            self.fc2 = nn.Linear(n_h1,n_h2) # hidden layer 2\n",
        "            self.fc3 = nn.Linear(n_h2,n_out)  # output layer\n",
        "            \n",
        "            # --- END CODE HERE\n",
        "   \n",
        "        \n",
        "    def forward(self, X):\n",
        "        \n",
        "        if student:\n",
        "            # --- START CODE HERE (07)\n",
        "            A0 = X\n",
        "            A1 = F.relu(self.fc1(A0))   # activation function for hidden layer 1\n",
        "            A2 = F.relu(self.fc2(A1))   # activation function for hidden layer 2\n",
        "            A3 = F.sigmoid(self.fc3(A2))   # activation function for output layer\n",
        "            # --- END CODE HERE\n",
        "\n",
        "        return A3\n",
        "\n",
        "# --- START CODE HERE\n",
        "my_model_3 = Net(n_in, n_h1, n_h2, n_out)\n",
        "print(my_model_3)\n",
        "\n",
        "# --- END CODE HERE"
      ],
      "execution_count": 22,
      "outputs": [
        {
          "output_type": "stream",
          "text": [
            "Net(\n",
            "  (fc1): Linear(in_features=2, out_features=20, bias=True)\n",
            "  (fc2): Linear(in_features=20, out_features=10, bias=True)\n",
            "  (fc3): Linear(in_features=10, out_features=1, bias=True)\n",
            ")\n"
          ],
          "name": "stdout"
        }
      ]
    },
    {
      "cell_type": "markdown",
      "metadata": {
        "colab_type": "text",
        "id": "ts4aVeIPo601"
      },
      "source": [
        "## Criterion and Optimization for model 2 and model 3\n",
        "\n",
        "The code of Model 1 is self-contained, i.e. it already contains all necessary instruction to perform forawrd, loss, backward and parameter updates.\n",
        "\n",
        "When using ```nn.sequential``` (model 2) or a class definition of the network (model 3), we still need to define \n",
        "- what we will minimize (the loss to be minimized, i.e. Binary-Cross-Entropy). We can of course write the equation of it by hand but pytorch comes with a very large number of pre-build loss functions (within ```torch.nn```)\n",
        "- how we will minimize the loss, i.e. what parameter update algorithms we will use (SGD, momentum). We can of course write the equation of it by hand but pytorch comes with a very large number of pre-build loss functions (within ```torch.nn```)"
      ]
    },
    {
      "cell_type": "markdown",
      "metadata": {
        "colab_type": "text",
        "id": "qL7ePZi9o604"
      },
      "source": [
        "## Training for model 2 and 3"
      ]
    },
    {
      "cell_type": "markdown",
      "metadata": {
        "colab_type": "text",
        "id": "XamuBM_ho604"
      },
      "source": [
        "Having defined the network, the citerion to be minimized and the optimizer, we then perform a loop over epochs (iterations); at each step we\n",
        "- compute the forward pass by passing the data to the model: ```haty = model(x)```\n",
        "- compute the the loss (the criterion)\n",
        "- putting at zero the gradients of all the parameters of the network (this is important since, by default, pytorch accumulate the gradients over time)\n",
        "- computing the backpropagation (using as before ```.backward()```)\n",
        "- performing one step of optimization (using ```.step()```)"
      ]
    },
    {
      "cell_type": "markdown",
      "metadata": {
        "id": "tdNAGz7bZ0UM",
        "colab_type": "text"
      },
      "source": [
        "# ***Training Model 2***"
      ]
    },
    {
      "cell_type": "code",
      "metadata": {
        "id": "OCroaKfLQacE",
        "colab_type": "code",
        "colab": {}
      },
      "source": [
        "if student:\n",
        "    # --- START CODE HERE (08)\n",
        "    criterion = nn.MSELoss()\n",
        "    optimizer = optim.SGD(my_model_2.parameters(), lr=0.01)\n",
        "    # --- END CODE HERE"
      ],
      "execution_count": 0,
      "outputs": []
    },
    {
      "cell_type": "code",
      "metadata": {
        "colab_type": "code",
        "id": "rKfrD8V3o605",
        "colab": {
          "base_uri": "https://localhost:8080/",
          "height": 638
        },
        "outputId": "17f3d8c6-b76c-4c5a-b43d-cefe2fe26cb4"
      },
      "source": [
        "loss_l = []\n",
        "for num_epoch in range(nb_epoch):\n",
        "  \n",
        "    if student:\n",
        "        # --- START CODE HERE (09)\n",
        "        hat_y = my_model_2(X) # Forward pass: Compute predicted y by passing  x to the model          \n",
        "        loss = criterion(hat_y,y) # Compute loss \n",
        "         # Zero gradients, perform a backward pass, and update the weights. \n",
        "        my_model_2.zero_grad() # re-init the gradients (otherwise they are cumulated)\n",
        "        loss.backward() # perform back-propagation\n",
        "        optimizer.step()    # Does the update\n",
        "        # update the weights\n",
        "        for f in my_model_2.parameters():\n",
        "           f.data.sub_(f.grad.data * alpha)\n",
        "        # --- END CODE HERE\n",
        "        \n",
        "    loss_l.append(loss)\n",
        "\n",
        "    if num_epoch % 500 == 0:\n",
        "        print('epoch {}, loss {}'.format(num_epoch, loss.item()))\n",
        "        \n",
        "\n",
        "        \n",
        "# ----------------\n",
        "plt.plot(loss_l)\n",
        "plt.title('MSE model 2')\n"
      ],
      "execution_count": 29,
      "outputs": [
        {
          "output_type": "stream",
          "text": [
            "epoch 0, loss 0.25336718559265137\n",
            "epoch 500, loss 0.10537737607955933\n",
            "epoch 1000, loss 0.08237951248884201\n",
            "epoch 1500, loss 0.08010663092136383\n",
            "epoch 2000, loss 0.07947584986686707\n",
            "epoch 2500, loss 0.0792551189661026\n",
            "epoch 3000, loss 0.07915429770946503\n",
            "epoch 3500, loss 0.07909645885229111\n",
            "epoch 4000, loss 0.0790586844086647\n",
            "epoch 4500, loss 0.07901108264923096\n",
            "epoch 5000, loss 0.07894163578748703\n",
            "epoch 5500, loss 0.07888474315404892\n",
            "epoch 6000, loss 0.07885821163654327\n",
            "epoch 6500, loss 0.07883870601654053\n",
            "epoch 7000, loss 0.07882631570100784\n",
            "epoch 7500, loss 0.0788152739405632\n",
            "epoch 8000, loss 0.07880513370037079\n",
            "epoch 8500, loss 0.07879453152418137\n",
            "epoch 9000, loss 0.07876847684383392\n",
            "epoch 9500, loss 0.07875332236289978\n"
          ],
          "name": "stdout"
        },
        {
          "output_type": "execute_result",
          "data": {
            "text/plain": [
              "Text(0.5, 1.0, 'MSE model 2')"
            ]
          },
          "metadata": {
            "tags": []
          },
          "execution_count": 29
        },
        {
          "output_type": "display_data",
          "data": {
            "image/png": "[encoded data removed]",
            "text/plain": [
              "<Figure size 432x288 with 1 Axes>"
            ]
          },
          "metadata": {
            "tags": []
          }
        }
      ]
    },
    {
      "cell_type": "markdown",
      "metadata": {
        "id": "YpJjne4jaLkM",
        "colab_type": "text"
      },
      "source": [
        "# Training model 3"
      ]
    },
    {
      "cell_type": "code",
      "metadata": {
        "id": "XJor-lohQhhF",
        "colab_type": "code",
        "colab": {}
      },
      "source": [
        "if student:\n",
        "    # --- START CODE HERE (08)\n",
        "    criterion = nn.MSELoss()\n",
        "    optimizer = optim.SGD(my_model_3.parameters(), lr=0.01)\n",
        "    # --- END CODE HERE"
      ],
      "execution_count": 0,
      "outputs": []
    },
    {
      "cell_type": "code",
      "metadata": {
        "id": "OiarRwWwaNtw",
        "colab_type": "code",
        "colab": {
          "base_uri": "https://localhost:8080/",
          "height": 672
        },
        "outputId": "67d8ec2c-2f25-4185-fc3e-e2a5bb0c3ca4"
      },
      "source": [
        "loss_l = []\n",
        "for num_epoch in range(nb_epoch):\n",
        "  \n",
        "    if student:\n",
        "        # --- START CODE HERE (09)\n",
        "        hat_y = my_model_3(X) # Forward pass: Compute predicted y by passing  x to the model          \n",
        "        loss = criterion(hat_y,y) # Compute loss \n",
        "         # Zero gradients, perform a backward pass, and update the weights. \n",
        "        my_model_3.zero_grad() # re-init the gradients (otherwise they are cumulated)\n",
        "        loss.backward() # perform back-propagation\n",
        "        optimizer.step()    # Does the update\n",
        "        # update the weights\n",
        "        for f in my_model_3.parameters():\n",
        "           f.data.sub_(f.grad.data * alpha)\n",
        "        # --- END CODE HERE\n",
        "        \n",
        "    loss_l.append(loss)\n",
        "\n",
        "    if num_epoch % 500 == 0:\n",
        "        print('epoch {}, loss {}'.format(num_epoch, loss.item()))\n",
        "        \n",
        "\n",
        "        \n",
        "# ----------------\n",
        "plt.plot(loss_l)\n",
        "plt.title('MSE model 3')"
      ],
      "execution_count": 31,
      "outputs": [
        {
          "output_type": "stream",
          "text": [
            "/usr/local/lib/python3.6/dist-packages/torch/nn/functional.py:1350: UserWarning: nn.functional.sigmoid is deprecated. Use torch.sigmoid instead.\n",
            "  warnings.warn(\"nn.functional.sigmoid is deprecated. Use torch.sigmoid instead.\")\n"
          ],
          "name": "stderr"
        },
        {
          "output_type": "stream",
          "text": [
            "epoch 0, loss 0.2527499794960022\n",
            "epoch 500, loss 0.15674550831317902\n",
            "epoch 1000, loss 0.08743946999311447\n",
            "epoch 1500, loss 0.08259820938110352\n",
            "epoch 2000, loss 0.0810432955622673\n",
            "epoch 2500, loss 0.08054640889167786\n",
            "epoch 3000, loss 0.08028393238782883\n",
            "epoch 3500, loss 0.08005377650260925\n",
            "epoch 4000, loss 0.07974179834127426\n",
            "epoch 4500, loss 0.07961048185825348\n",
            "epoch 5000, loss 0.07949656993150711\n",
            "epoch 5500, loss 0.07941700518131256\n",
            "epoch 6000, loss 0.07935319095849991\n",
            "epoch 6500, loss 0.07929009944200516\n",
            "epoch 7000, loss 0.07924097031354904\n",
            "epoch 7500, loss 0.07920091599225998\n",
            "epoch 8000, loss 0.07916390895843506\n",
            "epoch 8500, loss 0.07912594079971313\n",
            "epoch 9000, loss 0.07907044887542725\n",
            "epoch 9500, loss 0.07902369648218155\n"
          ],
          "name": "stdout"
        },
        {
          "output_type": "execute_result",
          "data": {
            "text/plain": [
              "Text(0.5, 1.0, 'MSE model 3')"
            ]
          },
          "metadata": {
            "tags": []
          },
          "execution_count": 31
        },
        {
          "output_type": "display_data",
          "data": {
            "image/png": "[encoded data removed]",
            "text/plain": [
              "<Figure size 432x288 with 1 Axes>"
            ]
          },
          "metadata": {
            "tags": []
          }
        }
      ]
    },
    {
      "cell_type": "code",
      "metadata": {
        "colab_type": "code",
        "id": "2P2hJYgWo606",
        "colab": {}
      },
      "source": [
        "# Evaluation\n",
        "\n",
        "To evaluate the work, you should rate the code for \n",
        "- 1) Model 1: Initialization of W1, b1, ... (01)\n",
        "- 2) Model 1: Forward-pass (02)\n",
        "- 3) Model 1: Loss and Cost computation  (03)\n",
        "- 4) Model 1: Manual update of the parameters (04)\n",
        "- 5) Model 2: using nn.sequential (05)\n",
        "- 6) Model 3: using class definition: __init__ method (06)\n",
        "- 7) Model 3: using class definition: forward method (07)\n",
        "- 8) Model 2 and 3: Loss (criterion) and parameter update algorithms (optimizer) (08)\n",
        "- 9) Model 2 and 3: code inside the loop (09)"
      ],
      "execution_count": 0,
      "outputs": []
    },
    {
      "cell_type": "code",
      "metadata": {
        "id": "xrz5Rovrj4gk",
        "colab_type": "code",
        "colab": {}
      },
      "source": [
        ""
      ],
      "execution_count": 0,
      "outputs": []
    }
  ]
}